{
  "nbformat": 4,
  "nbformat_minor": 0,
  "metadata": {
    "colab": {
      "provenance": [],
      "authorship_tag": "ABX9TyNEJnD44HT4OTn48m0UXWh3",
      "include_colab_link": true
    },
    "kernelspec": {
      "name": "python3",
      "display_name": "Python 3"
    },
    "language_info": {
      "name": "python"
    }
  },
  "cells": [
    {
      "cell_type": "markdown",
      "metadata": {
        "id": "view-in-github",
        "colab_type": "text"
      },
      "source": [
        "<a href=\"https://colab.research.google.com/github/ayseakt/rock-paper-scissorgame/blob/main/rock%2Cpaper%2Cscissors_game.ipynb\" target=\"_parent\"><img src=\"https://colab.research.google.com/assets/colab-badge.svg\" alt=\"Open In Colab\"/></a>"
      ]
    },
    {
      "cell_type": "code",
      "execution_count": 1,
      "metadata": {
        "id": "yIl7h1NKHkH_"
      },
      "outputs": [],
      "source": [
        "import random"
      ]
    },
    {
      "cell_type": "code",
      "source": [
        "action_list=['rock','paper','scissors']"
      ],
      "metadata": {
        "id": "zIZOP4oBINoL"
      },
      "execution_count": 7,
      "outputs": []
    },
    {
      "cell_type": "code",
      "source": [
        "import random\n",
        "\n",
        "# Oyunda kullanılacak eylemler listesi\n",
        "action_list = ['rock', 'paper', 'scissors']\n",
        "\n",
        "# Skor değişkenleri\n",
        "computer_score = 0\n",
        "player_score = 0\n",
        "\n",
        "# Kullanıcıdan kaç tur oynayacaklarını alın\n",
        "total_rounds = input(\"How many rounds do you want to play? Please enter a number here: \")\n",
        "total_rounds = int(total_rounds)  # String'i int'e dönüştür\n",
        "\n",
        "# Tur sayacını başlatın\n",
        "round_counter = 0\n",
        "\n",
        "while True:\n",
        "    round_counter += 1\n",
        "    print(\"Round number:\", round_counter)\n",
        "\n",
        "    # Bilgisayarın seçimini yapın\n",
        "    computer_choice = random.choice(action_list)\n",
        "\n",
        "    # Kullanıcının seçimini alın\n",
        "    player_choice = input(\"Please choose your action (rock, paper, scissors): \")\n",
        "    print(\"Computer:\", computer_choice)\n",
        "    print(\"Player:\", player_choice)\n",
        "\n",
        "    # Seçimleri karşılaştırın ve sonuçları belirleyin\n",
        "    if computer_choice == player_choice:\n",
        "        print(\"Tie! Both players chose the same action.\")\n",
        "    elif computer_choice == 'paper':\n",
        "        if player_choice == 'rock':\n",
        "            print(\"Winner is: Computer\")\n",
        "            computer_score += 1\n",
        "        else:\n",
        "            print(\"Winner is: Player\")\n",
        "            player_score += 1\n",
        "    elif computer_choice == 'rock':\n",
        "        if player_choice == 'paper':\n",
        "            print(\"Winner is: Player\")\n",
        "            player_score += 1\n",
        "        else:\n",
        "            print(\"Winner is: Computer\")\n",
        "            computer_score += 1\n",
        "    elif computer_choice == 'scissors':\n",
        "        if player_choice == 'rock':\n",
        "            print(\"Winner is: Player\")\n",
        "            player_score += 1\n",
        "        else:\n",
        "            print(\"Winner is: Computer\")\n",
        "            computer_score += 1\n",
        "\n",
        "    # Oyun bitiş kontrolü\n",
        "    if round_counter == total_rounds:\n",
        "        break\n",
        "\n",
        "# Sonuçları yazdırın\n",
        "if computer_score == player_score:\n",
        "    print(\"There is no winner, tie. Score:\", computer_score, \":\", player_score)\n",
        "elif computer_score > player_score:\n",
        "    print(\"Computer won with score\", computer_score, \":\", player_score)\n",
        "else:\n",
        "    print(\"Player won with score\", player_score, \":\", computer_score)\n"
      ],
      "metadata": {
        "colab": {
          "base_uri": "https://localhost:8080/"
        },
        "id": "Ar0iewYvIW2Y",
        "outputId": "4e0ad2ef-e755-4bc2-d4f9-d64d6bf45771"
      },
      "execution_count": 10,
      "outputs": [
        {
          "output_type": "stream",
          "name": "stdout",
          "text": [
            "How many rounds do you want to play? Please enter a number here: 3\n",
            "Round number: 1\n",
            "Please choose your action (rock, paper, scissors): paper\n",
            "Computer: paper\n",
            "Player: paper\n",
            "Tie! Both players chose the same action.\n",
            "Round number: 2\n",
            "Please choose your action (rock, paper, scissors): paper\n",
            "Computer: rock\n",
            "Player: paper\n",
            "Winner is: Player\n",
            "Round number: 3\n",
            "Please choose your action (rock, paper, scissors): rock\n",
            "Computer: paper\n",
            "Player: rock\n",
            "Winner is: Computer\n",
            "There is no winner, tie. Score: 1 : 1\n"
          ]
        }
      ]
    }
  ]
}